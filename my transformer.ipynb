{
 "cells": [
  {
   "cell_type": "code",
   "execution_count": 2,
   "metadata": {},
   "outputs": [],
   "source": [
    "import torch\n",
    "import torch.nn as nn\n",
    "from torch.nn import functional as F\n",
    "%matplotlib inline"
   ]
  },
  {
   "cell_type": "code",
   "execution_count": 3,
   "metadata": {},
   "outputs": [],
   "source": [
    "batchSize = 32\n",
    "contextSize = 8\n",
    "trainingSteps = 3000\n",
    "evaluationSteps = 200\n",
    "evalautionInterval = 500\n",
    "learningRate = 1e-3\n",
    "device = \"cuda\" if torch.cuda.is_available() else \"cpu\"\n",
    "embeddingSize = 32\n",
    "nHeads = 4\n",
    "nBlocks = 6\n",
    "dropoutRate = 0.3"
   ]
  },
  {
   "cell_type": "code",
   "execution_count": 4,
   "metadata": {},
   "outputs": [],
   "source": [
    "with open(\"input.txt\", \"r\", encoding=\"utf-8\") as file:\n",
    "    text = file.read()\n",
    "\n",
    "vocabulary = sorted(list(set(text)))\n",
    "vocabularySize = len(vocabulary)\n",
    "stoi = {s: i for i, s in enumerate(vocabulary)}\n",
    "itos = {i: s for i, s in enumerate(vocabulary)}\n",
    "encode = lambda x: [stoi[s] for s in x]\n",
    "decode = lambda x: ''.join([itos[i] for i in x])\n",
    "\n",
    "data = torch.tensor(encode(text), dtype=torch.long)\n",
    "split = int(len(data)*0.9)\n",
    "trainData = data[:split]\n",
    "valData = data[split:]"
   ]
  },
  {
   "cell_type": "code",
   "execution_count": 5,
   "metadata": {},
   "outputs": [],
   "source": [
    "def getBatch(data):\n",
    "    indexes = torch.randint(len(data) - contextSize - 1, (batchSize,))\n",
    "    X = torch.stack([data[i: i+contextSize] for i in indexes])\n",
    "    Y = torch.stack([data[i + 1: i + 1 + contextSize] for i in indexes])\n",
    "    X, Y = X.to(device), Y.to(device)\n",
    "    return X, Y"
   ]
  },
  {
   "cell_type": "code",
   "execution_count": 6,
   "metadata": {},
   "outputs": [],
   "source": [
    "@torch.no_grad()\n",
    "def estimateLoss(model, evaluationSteps):\n",
    "    losses = []\n",
    "    model.eval()\n",
    "    for data in [trainData, valData]:\n",
    "        tempLosses = torch.zeros(evaluationSteps)\n",
    "        for i in range(evaluationSteps):\n",
    "            X, Y = getBatch(data)\n",
    "            _, loss = model(X, Y)\n",
    "            tempLosses[i] = loss.item()\n",
    "        losses.append(tempLosses.mean())\n",
    "    model.train()\n",
    "    return losses[0], losses[1]"
   ]
  },
  {
   "cell_type": "code",
   "execution_count": 7,
   "metadata": {},
   "outputs": [],
   "source": [
    "class Head(nn.Module):\n",
    "    def __init__(self, headSize):\n",
    "        super().__init__()\n",
    "        self.key = nn.Linear(embeddingSize, headSize, bias=False)\n",
    "        self.query = nn.Linear(embeddingSize, headSize, bias=False)\n",
    "        self.value = nn.Linear(embeddingSize, headSize, bias=False)\n",
    "        self.register_buffer('mask', torch.tril(torch.ones(contextSize, contextSize)))\n",
    "        self.dropout = nn.Dropout(dropoutRate)\n",
    "\n",
    "    def forward(self, x):\n",
    "        B, T, C = x.shape\n",
    "        k = self.key(x) # (B, T, hs)\n",
    "        q = self.query(x) # (B, T, hs)\n",
    "        affinities = q @ k.transpose(-2, -1) * k.shape[-1]**-0.5 # (B, T, hs) @ (B, hs, T) -> (B, T, T)\n",
    "        affinities = affinities.masked_fill(self.mask[:T, :T] == 0, float('-inf'))\n",
    "        affinities = F.softmax(affinities, dim=-1)\n",
    "        affinities = self.dropout(affinities)\n",
    "        v = self.value(x)\n",
    "        out = affinities @ v\n",
    "        return out\n",
    "    \n",
    "class MultiHeadAttention(nn.Module):\n",
    "    def __init__(self, headSize):\n",
    "        super().__init__()\n",
    "        self.heads = nn.ModuleList([Head(headSize) for _ in range(nHeads)])\n",
    "        self.projection = nn.Linear(headSize*nHeads, embeddingSize)\n",
    "        self.dropout = nn.Dropout(dropoutRate)\n",
    "        \n",
    "    def forward(self, x):\n",
    "        out = torch.cat([h(x) for h in self.heads], dim = -1)\n",
    "        out = self.dropout(self.projection(out))\n",
    "        return out\n",
    "    \n",
    "class FeedForward(nn.Module):\n",
    "    def __init__(self, embeddingSize):\n",
    "        super().__init__()\n",
    "        self.net = nn.Sequential(\n",
    "            nn.Linear(embeddingSize, 4*embeddingSize),\n",
    "            nn.ReLU(),\n",
    "            nn.Linear(4*embeddingSize, embeddingSize),\n",
    "            nn.Dropout(dropoutRate),\n",
    "        )\n",
    "    \n",
    "    def forward(self, x):\n",
    "        return self.net(x)\n",
    "    \n",
    "class Block(nn.Module):\n",
    "    def __init__(self):\n",
    "        super().__init__()\n",
    "        headSize = embeddingSize // nHeads\n",
    "        self.selfAttention = MultiHeadAttention(headSize)\n",
    "        self.feedforward = FeedForward(embeddingSize)\n",
    "        self.layernorm1 = nn.LayerNorm(embeddingSize)\n",
    "        self.layernorm2 = nn.LayerNorm(embeddingSize)\n",
    "\n",
    "    def forward(self, x):\n",
    "        x = x + self.selfAttention(self.layernorm1(x))\n",
    "        x = x + self.feedforward(self.layernorm2(x))\n",
    "        return x\n",
    "    \n",
    "class SmallLanguageModel(nn.Module):\n",
    "    def __init__(self):\n",
    "        super().__init__()\n",
    "        self.tokenEmbeddingTable = nn.Embedding(vocabularySize, embeddingSize)\n",
    "        self.positionEmbeddingTable = nn.Embedding(contextSize, embeddingSize)\n",
    "        self.blocks = nn.Sequential(*[Block() for _ in range(nBlocks)])\n",
    "        self.finalLayerNorm = nn.LayerNorm(embeddingSize)\n",
    "        self.languageModellingHead = nn.Linear(embeddingSize, vocabularySize)\n",
    "\n",
    "        self.apply(self._init_weights)\n",
    "\n",
    "    def _init_weights(self, module):\n",
    "        if isinstance(module, nn.Linear):\n",
    "            torch.nn.init.normal_(module.weight, mean=0.0, std=0.02)\n",
    "            if module.bias is not None:\n",
    "                torch.nn.init.zeros_(module.bias)\n",
    "        elif isinstance(module, nn.Embedding):\n",
    "            torch.nn.init.normal_(module.weight, mean=0.0, std=0.02)\n",
    "\n",
    "    def forward(self, data, targets=None):\n",
    "        B, T = data.shape\n",
    "\n",
    "        tokenEmbeddings = self.tokenEmbeddingTable(data) # (B,T,C)\n",
    "        positionEmbeddings = self.positionEmbeddingTable(torch.arange(T, device=device)) # (T,C)\n",
    "        x = tokenEmbeddings + positionEmbeddings # (B,T,C)\n",
    "        x = self.blocks(x) # (B,T,C)\n",
    "        x = self.finalLayerNorm(x) # (B,T,C)\n",
    "        logits = self.languageModellingHead(x) # (B,T,vocab_size)\n",
    "\n",
    "        if targets is None:\n",
    "            loss = None\n",
    "        else:\n",
    "            B, T, C = logits.shape\n",
    "            logits = logits.view(B*T, C)\n",
    "            targets = targets.view(B*T)\n",
    "            loss = F.cross_entropy(logits, targets)\n",
    "\n",
    "        return logits, loss\n",
    "    \n",
    "    def generate(self, sequence, nNewTokens):\n",
    "        for _ in range(nNewTokens):\n",
    "            croppedContext = sequence[:, -contextSize:] # indices (B, T) array of indices in the current context\n",
    "            logits, loss = self(croppedContext)\n",
    "            logits = logits[:, -1, :] # becomes (B, C), focusing on the last timestep\n",
    "            probs = F.softmax(logits, dim=-1) # (B, C)\n",
    "            nextToken = torch.multinomial(probs, num_samples=1) # (B, 1)\n",
    "            sequence = torch.cat((sequence, nextToken), dim=1) # (B, T+1)\n",
    "            #print(f\"Just generated: {decode(torch.flatten(sequence).tolist())} from context: {decode(torch.flatten(croppedContext).tolist())}\")\n",
    "        return sequence"
   ]
  },
  {
   "cell_type": "code",
   "execution_count": 8,
   "metadata": {},
   "outputs": [
    {
     "name": "stdout",
     "output_type": "stream",
     "text": [
      "Number of parameters: 80.193k\n"
     ]
    }
   ],
   "source": [
    "model = SmallLanguageModel().to(device)\n",
    "print(f\"Number of parameters: {sum(p.numel() for p in model.parameters())/1e3}k\")\n",
    "optimizer = torch.optim.AdamW(model.parameters(), lr=learningRate)"
   ]
  },
  {
   "cell_type": "code",
   "execution_count": 9,
   "metadata": {},
   "outputs": [
    {
     "name": "stdout",
     "output_type": "stream",
     "text": [
      "step 0: train loss 4.1745, val loss 4.1740\n",
      "step 500: train loss 2.4456, val loss 2.4523\n",
      "step 1000: train loss 2.3466, val loss 2.3519\n",
      "step 1500: train loss 2.2758, val loss 2.2815\n",
      "step 2000: train loss 2.2318, val loss 2.2459\n",
      "step 2500: train loss 2.1997, val loss 2.2103\n",
      "step 2999: train loss 2.1575, val loss 2.1836\n"
     ]
    }
   ],
   "source": [
    "for i in range(trainingSteps):\n",
    "\n",
    "    if i % evalautionInterval == 0 or i == trainingSteps - 1:\n",
    "        trainLoss, valLoss = estimateLoss(model, evaluationSteps)\n",
    "        print(f\"step {i}: train loss {trainLoss:.4f}, val loss {valLoss:.4f}\")\n",
    "\n",
    "    Xb, Yb = getBatch(trainData)\n",
    "\n",
    "    logits, loss = model(Xb, Yb)\n",
    "    optimizer.zero_grad()\n",
    "    loss.backward()\n",
    "    optimizer.step()\n"
   ]
  },
  {
   "cell_type": "code",
   "execution_count": 10,
   "metadata": {},
   "outputs": [
    {
     "name": "stdout",
     "output_type": "stream",
     "text": [
      "\n",
      "ARICHESDDARDIMIZESDOBY INGUNI\n",
      "HASANd earde af des.\n",
      "Whotce sod nothe,\n",
      "And nave haud mod lave pored, a to dir the day deachtoes; will youliay, Mve,\n",
      "A by utle ofy\n",
      "Word, wplows mof por?\n",
      "QOUNGA blucies your; neplartty?\n",
      "Thenme you danst Hland and Sef ofor taurphanweng.\n",
      "in no wit, and;\n",
      "\n",
      "Youks duatoun is of my hat ank stay's for:\n",
      "Ne to o mching ond sulce.\n",
      "\n",
      "CRUMWe wardes, venses! temoer, thow, tis bemiisd In no god kny pleafonTyevaod'?\n",
      "\n",
      "lOy nof your beOhthan wall you\n",
      "Prastatioces\n",
      "Caiusven, hiBle;\n",
      "And, me\n"
     ]
    }
   ],
   "source": [
    "context = torch.zeros((1, 1), dtype=torch.long, device=device)\n",
    "print(decode(model.generate(context, nNewTokens=500)[0].tolist()))"
   ]
  }
 ],
 "metadata": {
  "kernelspec": {
   "display_name": "Python 3",
   "language": "python",
   "name": "python3"
  },
  "language_info": {
   "codemirror_mode": {
    "name": "ipython",
    "version": 3
   },
   "file_extension": ".py",
   "mimetype": "text/x-python",
   "name": "python",
   "nbconvert_exporter": "python",
   "pygments_lexer": "ipython3",
   "version": "3.10.8"
  }
 },
 "nbformat": 4,
 "nbformat_minor": 2
}
